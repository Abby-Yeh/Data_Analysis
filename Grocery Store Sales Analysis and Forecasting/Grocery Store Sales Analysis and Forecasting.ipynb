{
 "cells": [
  {
   "cell_type": "markdown",
   "metadata": {},
   "source": [
    "### 1. Load the CSV data file into a Pandas DataFrame"
   ]
  },
  {
   "cell_type": "code",
   "execution_count": 1,
   "metadata": {},
   "outputs": [],
   "source": [
    "# Use Pandas to read in the provided data file\n",
    "# and review the first 10 rows of data\n",
    "import pandas as pd"
   ]
  },
  {
   "cell_type": "code",
   "execution_count": 2,
   "metadata": {},
   "outputs": [],
   "source": [
    "stores_df = pd.read_csv(\"Stores.csv\")"
   ]
  },
  {
   "cell_type": "code",
   "execution_count": 3,
   "metadata": {},
   "outputs": [
    {
     "data": {
      "text/html": [
       "<div>\n",
       "<style scoped>\n",
       "    .dataframe tbody tr th:only-of-type {\n",
       "        vertical-align: middle;\n",
       "    }\n",
       "\n",
       "    .dataframe tbody tr th {\n",
       "        vertical-align: top;\n",
       "    }\n",
       "\n",
       "    .dataframe thead th {\n",
       "        text-align: right;\n",
       "    }\n",
       "</style>\n",
       "<table border=\"1\" class=\"dataframe\">\n",
       "  <thead>\n",
       "    <tr style=\"text-align: right;\">\n",
       "      <th></th>\n",
       "      <th>Store ID</th>\n",
       "      <th>Store_Area</th>\n",
       "      <th>Items_Available</th>\n",
       "      <th>Daily_Customer_Count</th>\n",
       "      <th>Store_Sales</th>\n",
       "    </tr>\n",
       "  </thead>\n",
       "  <tbody>\n",
       "    <tr>\n",
       "      <th>0</th>\n",
       "      <td>1</td>\n",
       "      <td>1659</td>\n",
       "      <td>1961</td>\n",
       "      <td>530</td>\n",
       "      <td>66490</td>\n",
       "    </tr>\n",
       "    <tr>\n",
       "      <th>1</th>\n",
       "      <td>2</td>\n",
       "      <td>1461</td>\n",
       "      <td>1752</td>\n",
       "      <td>210</td>\n",
       "      <td>39820</td>\n",
       "    </tr>\n",
       "    <tr>\n",
       "      <th>2</th>\n",
       "      <td>3</td>\n",
       "      <td>1340</td>\n",
       "      <td>1609</td>\n",
       "      <td>720</td>\n",
       "      <td>54010</td>\n",
       "    </tr>\n",
       "    <tr>\n",
       "      <th>3</th>\n",
       "      <td>4</td>\n",
       "      <td>1451</td>\n",
       "      <td>1748</td>\n",
       "      <td>620</td>\n",
       "      <td>53730</td>\n",
       "    </tr>\n",
       "    <tr>\n",
       "      <th>4</th>\n",
       "      <td>5</td>\n",
       "      <td>1770</td>\n",
       "      <td>2111</td>\n",
       "      <td>450</td>\n",
       "      <td>46620</td>\n",
       "    </tr>\n",
       "    <tr>\n",
       "      <th>5</th>\n",
       "      <td>6</td>\n",
       "      <td>1442</td>\n",
       "      <td>1733</td>\n",
       "      <td>760</td>\n",
       "      <td>45260</td>\n",
       "    </tr>\n",
       "    <tr>\n",
       "      <th>6</th>\n",
       "      <td>7</td>\n",
       "      <td>1542</td>\n",
       "      <td>1858</td>\n",
       "      <td>1030</td>\n",
       "      <td>72240</td>\n",
       "    </tr>\n",
       "    <tr>\n",
       "      <th>7</th>\n",
       "      <td>8</td>\n",
       "      <td>1261</td>\n",
       "      <td>1507</td>\n",
       "      <td>1020</td>\n",
       "      <td>37720</td>\n",
       "    </tr>\n",
       "    <tr>\n",
       "      <th>8</th>\n",
       "      <td>9</td>\n",
       "      <td>1090</td>\n",
       "      <td>1321</td>\n",
       "      <td>680</td>\n",
       "      <td>46310</td>\n",
       "    </tr>\n",
       "    <tr>\n",
       "      <th>9</th>\n",
       "      <td>10</td>\n",
       "      <td>1030</td>\n",
       "      <td>1235</td>\n",
       "      <td>1130</td>\n",
       "      <td>44150</td>\n",
       "    </tr>\n",
       "  </tbody>\n",
       "</table>\n",
       "</div>"
      ],
      "text/plain": [
       "   Store ID   Store_Area  Items_Available  Daily_Customer_Count  Store_Sales\n",
       "0          1        1659             1961                   530        66490\n",
       "1          2        1461             1752                   210        39820\n",
       "2          3        1340             1609                   720        54010\n",
       "3          4        1451             1748                   620        53730\n",
       "4          5        1770             2111                   450        46620\n",
       "5          6        1442             1733                   760        45260\n",
       "6          7        1542             1858                  1030        72240\n",
       "7          8        1261             1507                  1020        37720\n",
       "8          9        1090             1321                   680        46310\n",
       "9         10        1030             1235                  1130        44150"
      ]
     },
     "execution_count": 3,
     "metadata": {},
     "output_type": "execute_result"
    }
   ],
   "source": [
    "stores_df.head(10)"
   ]
  },
  {
   "cell_type": "markdown",
   "metadata": {},
   "source": [
    "### 2. Report Stores that have more than 100k in Sales"
   ]
  },
  {
   "cell_type": "code",
   "execution_count": 4,
   "metadata": {
    "scrolled": true
   },
   "outputs": [
    {
     "data": {
      "text/html": [
       "<div>\n",
       "<style scoped>\n",
       "    .dataframe tbody tr th:only-of-type {\n",
       "        vertical-align: middle;\n",
       "    }\n",
       "\n",
       "    .dataframe tbody tr th {\n",
       "        vertical-align: top;\n",
       "    }\n",
       "\n",
       "    .dataframe thead th {\n",
       "        text-align: right;\n",
       "    }\n",
       "</style>\n",
       "<table border=\"1\" class=\"dataframe\">\n",
       "  <thead>\n",
       "    <tr style=\"text-align: right;\">\n",
       "      <th></th>\n",
       "      <th>Store ID</th>\n",
       "      <th>Store_Area</th>\n",
       "      <th>Items_Available</th>\n",
       "      <th>Daily_Customer_Count</th>\n",
       "      <th>Store_Sales</th>\n",
       "    </tr>\n",
       "  </thead>\n",
       "  <tbody>\n",
       "    <tr>\n",
       "      <th>408</th>\n",
       "      <td>409</td>\n",
       "      <td>1303</td>\n",
       "      <td>1587</td>\n",
       "      <td>1310</td>\n",
       "      <td>102310</td>\n",
       "    </tr>\n",
       "    <tr>\n",
       "      <th>432</th>\n",
       "      <td>433</td>\n",
       "      <td>1365</td>\n",
       "      <td>1638</td>\n",
       "      <td>680</td>\n",
       "      <td>102920</td>\n",
       "    </tr>\n",
       "    <tr>\n",
       "      <th>557</th>\n",
       "      <td>558</td>\n",
       "      <td>1137</td>\n",
       "      <td>1374</td>\n",
       "      <td>700</td>\n",
       "      <td>101780</td>\n",
       "    </tr>\n",
       "    <tr>\n",
       "      <th>649</th>\n",
       "      <td>650</td>\n",
       "      <td>1989</td>\n",
       "      <td>2414</td>\n",
       "      <td>860</td>\n",
       "      <td>116320</td>\n",
       "    </tr>\n",
       "    <tr>\n",
       "      <th>758</th>\n",
       "      <td>759</td>\n",
       "      <td>1486</td>\n",
       "      <td>1758</td>\n",
       "      <td>820</td>\n",
       "      <td>101820</td>\n",
       "    </tr>\n",
       "    <tr>\n",
       "      <th>866</th>\n",
       "      <td>867</td>\n",
       "      <td>1565</td>\n",
       "      <td>1854</td>\n",
       "      <td>900</td>\n",
       "      <td>100900</td>\n",
       "    </tr>\n",
       "    <tr>\n",
       "      <th>868</th>\n",
       "      <td>869</td>\n",
       "      <td>1775</td>\n",
       "      <td>2104</td>\n",
       "      <td>980</td>\n",
       "      <td>105150</td>\n",
       "    </tr>\n",
       "  </tbody>\n",
       "</table>\n",
       "</div>"
      ],
      "text/plain": [
       "     Store ID   Store_Area  Items_Available  Daily_Customer_Count  Store_Sales\n",
       "408        409        1303             1587                  1310       102310\n",
       "432        433        1365             1638                   680       102920\n",
       "557        558        1137             1374                   700       101780\n",
       "649        650        1989             2414                   860       116320\n",
       "758        759        1486             1758                   820       101820\n",
       "866        867        1565             1854                   900       100900\n",
       "868        869        1775             2104                   980       105150"
      ]
     },
     "execution_count": 4,
     "metadata": {},
     "output_type": "execute_result"
    }
   ],
   "source": [
    "# Use pandas conditional filtering\n",
    "stores_df[stores_df[\"Store_Sales\"] > 100000]"
   ]
  },
  {
   "cell_type": "markdown",
   "metadata": {},
   "source": [
    "### 3. Create a new feature column of ratio between the Sales and the Daily Customer Count of a store"
   ]
  },
  {
   "cell_type": "markdown",
   "metadata": {},
   "source": [
    "Create a new column called \"Average_Purchase\" that store the ratio between Store Sales vs. Daily Customer Count"
   ]
  },
  {
   "cell_type": "code",
   "execution_count": 5,
   "metadata": {},
   "outputs": [],
   "source": [
    "stores_df[\"Average_Purchase\"] = stores_df[\"Store_Sales\"] / stores_df[\"Daily_Customer_Count\"]"
   ]
  },
  {
   "cell_type": "code",
   "execution_count": 6,
   "metadata": {},
   "outputs": [
    {
     "data": {
      "text/html": [
       "<div>\n",
       "<style scoped>\n",
       "    .dataframe tbody tr th:only-of-type {\n",
       "        vertical-align: middle;\n",
       "    }\n",
       "\n",
       "    .dataframe tbody tr th {\n",
       "        vertical-align: top;\n",
       "    }\n",
       "\n",
       "    .dataframe thead th {\n",
       "        text-align: right;\n",
       "    }\n",
       "</style>\n",
       "<table border=\"1\" class=\"dataframe\">\n",
       "  <thead>\n",
       "    <tr style=\"text-align: right;\">\n",
       "      <th></th>\n",
       "      <th>Store ID</th>\n",
       "      <th>Store_Area</th>\n",
       "      <th>Items_Available</th>\n",
       "      <th>Daily_Customer_Count</th>\n",
       "      <th>Store_Sales</th>\n",
       "      <th>Average_Purchase</th>\n",
       "    </tr>\n",
       "  </thead>\n",
       "  <tbody>\n",
       "    <tr>\n",
       "      <th>0</th>\n",
       "      <td>1</td>\n",
       "      <td>1659</td>\n",
       "      <td>1961</td>\n",
       "      <td>530</td>\n",
       "      <td>66490</td>\n",
       "      <td>125.452830</td>\n",
       "    </tr>\n",
       "    <tr>\n",
       "      <th>1</th>\n",
       "      <td>2</td>\n",
       "      <td>1461</td>\n",
       "      <td>1752</td>\n",
       "      <td>210</td>\n",
       "      <td>39820</td>\n",
       "      <td>189.619048</td>\n",
       "    </tr>\n",
       "    <tr>\n",
       "      <th>2</th>\n",
       "      <td>3</td>\n",
       "      <td>1340</td>\n",
       "      <td>1609</td>\n",
       "      <td>720</td>\n",
       "      <td>54010</td>\n",
       "      <td>75.013889</td>\n",
       "    </tr>\n",
       "    <tr>\n",
       "      <th>3</th>\n",
       "      <td>4</td>\n",
       "      <td>1451</td>\n",
       "      <td>1748</td>\n",
       "      <td>620</td>\n",
       "      <td>53730</td>\n",
       "      <td>86.661290</td>\n",
       "    </tr>\n",
       "    <tr>\n",
       "      <th>4</th>\n",
       "      <td>5</td>\n",
       "      <td>1770</td>\n",
       "      <td>2111</td>\n",
       "      <td>450</td>\n",
       "      <td>46620</td>\n",
       "      <td>103.600000</td>\n",
       "    </tr>\n",
       "    <tr>\n",
       "      <th>...</th>\n",
       "      <td>...</td>\n",
       "      <td>...</td>\n",
       "      <td>...</td>\n",
       "      <td>...</td>\n",
       "      <td>...</td>\n",
       "      <td>...</td>\n",
       "    </tr>\n",
       "    <tr>\n",
       "      <th>891</th>\n",
       "      <td>892</td>\n",
       "      <td>1582</td>\n",
       "      <td>1910</td>\n",
       "      <td>1080</td>\n",
       "      <td>66390</td>\n",
       "      <td>61.472222</td>\n",
       "    </tr>\n",
       "    <tr>\n",
       "      <th>892</th>\n",
       "      <td>893</td>\n",
       "      <td>1387</td>\n",
       "      <td>1663</td>\n",
       "      <td>850</td>\n",
       "      <td>82080</td>\n",
       "      <td>96.564706</td>\n",
       "    </tr>\n",
       "    <tr>\n",
       "      <th>893</th>\n",
       "      <td>894</td>\n",
       "      <td>1200</td>\n",
       "      <td>1436</td>\n",
       "      <td>1060</td>\n",
       "      <td>76440</td>\n",
       "      <td>72.113208</td>\n",
       "    </tr>\n",
       "    <tr>\n",
       "      <th>894</th>\n",
       "      <td>895</td>\n",
       "      <td>1299</td>\n",
       "      <td>1560</td>\n",
       "      <td>770</td>\n",
       "      <td>96610</td>\n",
       "      <td>125.467532</td>\n",
       "    </tr>\n",
       "    <tr>\n",
       "      <th>895</th>\n",
       "      <td>896</td>\n",
       "      <td>1174</td>\n",
       "      <td>1429</td>\n",
       "      <td>1110</td>\n",
       "      <td>54340</td>\n",
       "      <td>48.954955</td>\n",
       "    </tr>\n",
       "  </tbody>\n",
       "</table>\n",
       "<p>896 rows × 6 columns</p>\n",
       "</div>"
      ],
      "text/plain": [
       "     Store ID   Store_Area  Items_Available  Daily_Customer_Count  \\\n",
       "0            1        1659             1961                   530   \n",
       "1            2        1461             1752                   210   \n",
       "2            3        1340             1609                   720   \n",
       "3            4        1451             1748                   620   \n",
       "4            5        1770             2111                   450   \n",
       "..         ...         ...              ...                   ...   \n",
       "891        892        1582             1910                  1080   \n",
       "892        893        1387             1663                   850   \n",
       "893        894        1200             1436                  1060   \n",
       "894        895        1299             1560                   770   \n",
       "895        896        1174             1429                  1110   \n",
       "\n",
       "     Store_Sales  Average_Purchase  \n",
       "0          66490        125.452830  \n",
       "1          39820        189.619048  \n",
       "2          54010         75.013889  \n",
       "3          53730         86.661290  \n",
       "4          46620        103.600000  \n",
       "..           ...               ...  \n",
       "891        66390         61.472222  \n",
       "892        82080         96.564706  \n",
       "893        76440         72.113208  \n",
       "894        96610        125.467532  \n",
       "895        54340         48.954955  \n",
       "\n",
       "[896 rows x 6 columns]"
      ]
     },
     "execution_count": 6,
     "metadata": {},
     "output_type": "execute_result"
    }
   ],
   "source": [
    "stores_df"
   ]
  },
  {
   "cell_type": "markdown",
   "metadata": {},
   "source": [
    "### 4. Create a Visual Report of Sales using a Histogram"
   ]
  },
  {
   "cell_type": "markdown",
   "metadata": {},
   "source": [
    "In order to understand the distribution of sales across all the stores, create a Histogram of the Sales column using Matplotlib. "
   ]
  },
  {
   "cell_type": "code",
   "execution_count": 7,
   "metadata": {
    "scrolled": true
   },
   "outputs": [
    {
     "data": {
      "text/plain": [
       "Text(0, 0.5, 'Frequency')"
      ]
     },
     "execution_count": 7,
     "metadata": {},
     "output_type": "execute_result"
    },
    {
     "data": {
      "image/png": "[encoded data removed]",
      "text/plain": [
       "<Figure size 640x480 with 1 Axes>"
      ]
     },
     "metadata": {},
     "output_type": "display_data"
    }
   ],
   "source": [
    "import matplotlib.pyplot as plt\n",
    "plt.figure()\n",
    "plt.hist(stores_df[\"Store_Sales\"],bins = 30, edgecolor=\"black\")\n",
    "plt.title(\"Sales\")\n",
    "plt.xlabel(\"Sales($)\")\n",
    "plt.ylabel(\"Frequency\")"
   ]
  },
  {
   "cell_type": "markdown",
   "metadata": {},
   "source": [
    "### 5. Create Visual Report of Feature Correlation using a Headmap"
   ]
  },
  {
   "cell_type": "markdown",
   "metadata": {},
   "source": [
    "In order to understand the relationships between features, we can use the Pearson Correlation Coefficient. \n",
    "Use Pandas to create a correlation matrix of the columns in the data. \n",
    "Then use the seaborn library to visualize these correlation matrix values using a Heatmap."
   ]
  },
  {
   "cell_type": "code",
   "execution_count": 8,
   "metadata": {},
   "outputs": [],
   "source": [
    "import seaborn as sns"
   ]
  },
  {
   "cell_type": "code",
   "execution_count": 9,
   "metadata": {},
   "outputs": [
    {
     "data": {
      "text/html": [
       "<div>\n",
       "<style scoped>\n",
       "    .dataframe tbody tr th:only-of-type {\n",
       "        vertical-align: middle;\n",
       "    }\n",
       "\n",
       "    .dataframe tbody tr th {\n",
       "        vertical-align: top;\n",
       "    }\n",
       "\n",
       "    .dataframe thead th {\n",
       "        text-align: right;\n",
       "    }\n",
       "</style>\n",
       "<table border=\"1\" class=\"dataframe\">\n",
       "  <thead>\n",
       "    <tr style=\"text-align: right;\">\n",
       "      <th></th>\n",
       "      <th>Store ID</th>\n",
       "      <th>Store_Area</th>\n",
       "      <th>Items_Available</th>\n",
       "      <th>Daily_Customer_Count</th>\n",
       "      <th>Store_Sales</th>\n",
       "      <th>Average_Purchase</th>\n",
       "    </tr>\n",
       "  </thead>\n",
       "  <tbody>\n",
       "    <tr>\n",
       "      <th>Store ID</th>\n",
       "      <td>1.000000</td>\n",
       "      <td>-0.058705</td>\n",
       "      <td>-0.055707</td>\n",
       "      <td>-0.010029</td>\n",
       "      <td>0.071486</td>\n",
       "      <td>-0.031974</td>\n",
       "    </tr>\n",
       "    <tr>\n",
       "      <th>Store_Area</th>\n",
       "      <td>-0.058705</td>\n",
       "      <td>1.000000</td>\n",
       "      <td>0.998891</td>\n",
       "      <td>-0.041423</td>\n",
       "      <td>0.097474</td>\n",
       "      <td>-0.002910</td>\n",
       "    </tr>\n",
       "    <tr>\n",
       "      <th>Items_Available</th>\n",
       "      <td>-0.055707</td>\n",
       "      <td>0.998891</td>\n",
       "      <td>1.000000</td>\n",
       "      <td>-0.040978</td>\n",
       "      <td>0.098849</td>\n",
       "      <td>-0.003585</td>\n",
       "    </tr>\n",
       "    <tr>\n",
       "      <th>Daily_Customer_Count</th>\n",
       "      <td>-0.010029</td>\n",
       "      <td>-0.041423</td>\n",
       "      <td>-0.040978</td>\n",
       "      <td>1.000000</td>\n",
       "      <td>0.008629</td>\n",
       "      <td>-0.338249</td>\n",
       "    </tr>\n",
       "    <tr>\n",
       "      <th>Store_Sales</th>\n",
       "      <td>0.071486</td>\n",
       "      <td>0.097474</td>\n",
       "      <td>0.098849</td>\n",
       "      <td>0.008629</td>\n",
       "      <td>1.000000</td>\n",
       "      <td>0.139546</td>\n",
       "    </tr>\n",
       "    <tr>\n",
       "      <th>Average_Purchase</th>\n",
       "      <td>-0.031974</td>\n",
       "      <td>-0.002910</td>\n",
       "      <td>-0.003585</td>\n",
       "      <td>-0.338249</td>\n",
       "      <td>0.139546</td>\n",
       "      <td>1.000000</td>\n",
       "    </tr>\n",
       "  </tbody>\n",
       "</table>\n",
       "</div>"
      ],
      "text/plain": [
       "                      Store ID   Store_Area  Items_Available  \\\n",
       "Store ID               1.000000   -0.058705        -0.055707   \n",
       "Store_Area            -0.058705    1.000000         0.998891   \n",
       "Items_Available       -0.055707    0.998891         1.000000   \n",
       "Daily_Customer_Count  -0.010029   -0.041423        -0.040978   \n",
       "Store_Sales            0.071486    0.097474         0.098849   \n",
       "Average_Purchase      -0.031974   -0.002910        -0.003585   \n",
       "\n",
       "                      Daily_Customer_Count  Store_Sales  Average_Purchase  \n",
       "Store ID                         -0.010029     0.071486         -0.031974  \n",
       "Store_Area                       -0.041423     0.097474         -0.002910  \n",
       "Items_Available                  -0.040978     0.098849         -0.003585  \n",
       "Daily_Customer_Count              1.000000     0.008629         -0.338249  \n",
       "Store_Sales                       0.008629     1.000000          0.139546  \n",
       "Average_Purchase                 -0.338249     0.139546          1.000000  "
      ]
     },
     "execution_count": 9,
     "metadata": {},
     "output_type": "execute_result"
    }
   ],
   "source": [
    "# Create the Pandas correlation matrix\n",
    "stores_df.corr()"
   ]
  },
  {
   "cell_type": "code",
   "execution_count": 10,
   "metadata": {},
   "outputs": [
    {
     "data": {
      "text/plain": [
       "<Axes: >"
      ]
     },
     "execution_count": 10,
     "metadata": {},
     "output_type": "execute_result"
    },
    {
     "data": {
      "image/png": "[encoded data removed]",
      "text/plain": [
       "<Figure size 640x480 with 2 Axes>"
      ]
     },
     "metadata": {},
     "output_type": "display_data"
    }
   ],
   "source": [
    "# Pass this matrix into seaborn's heatmap call\n",
    "sns.heatmap(stores_df.corr(), annot = True, cmap = \"jet\")"
   ]
  },
  {
   "cell_type": "markdown",
   "metadata": {},
   "source": [
    "### 6. Create a predictive model in order to help forecast the sales of new stores"
   ]
  },
  {
   "cell_type": "markdown",
   "metadata": {},
   "source": [
    "Create a label Pandas Series called labels containing the Store Sales values, then create a feature DataFrame called data. Make sure to drop Store ID and Store_Sales from the feature data, since one is a unique identifier and the other is the label we are trying to predict. Split Data into a Training Set and a Test Set"
   ]
  },
  {
   "cell_type": "code",
   "execution_count": 11,
   "metadata": {},
   "outputs": [],
   "source": [
    "from sklearn.model_selection import train_test_split"
   ]
  },
  {
   "cell_type": "code",
   "execution_count": 12,
   "metadata": {},
   "outputs": [],
   "source": [
    "data, labels = stores_df.drop([\"Store ID \",\"Store_Sales\"], axis=1), stores_df[\"Store_Sales\"]"
   ]
  },
  {
   "cell_type": "code",
   "execution_count": 13,
   "metadata": {},
   "outputs": [
    {
     "data": {
      "text/html": [
       "<div>\n",
       "<style scoped>\n",
       "    .dataframe tbody tr th:only-of-type {\n",
       "        vertical-align: middle;\n",
       "    }\n",
       "\n",
       "    .dataframe tbody tr th {\n",
       "        vertical-align: top;\n",
       "    }\n",
       "\n",
       "    .dataframe thead th {\n",
       "        text-align: right;\n",
       "    }\n",
       "</style>\n",
       "<table border=\"1\" class=\"dataframe\">\n",
       "  <thead>\n",
       "    <tr style=\"text-align: right;\">\n",
       "      <th></th>\n",
       "      <th>Store_Area</th>\n",
       "      <th>Items_Available</th>\n",
       "      <th>Daily_Customer_Count</th>\n",
       "      <th>Average_Purchase</th>\n",
       "    </tr>\n",
       "  </thead>\n",
       "  <tbody>\n",
       "    <tr>\n",
       "      <th>0</th>\n",
       "      <td>1659</td>\n",
       "      <td>1961</td>\n",
       "      <td>530</td>\n",
       "      <td>125.452830</td>\n",
       "    </tr>\n",
       "    <tr>\n",
       "      <th>1</th>\n",
       "      <td>1461</td>\n",
       "      <td>1752</td>\n",
       "      <td>210</td>\n",
       "      <td>189.619048</td>\n",
       "    </tr>\n",
       "    <tr>\n",
       "      <th>2</th>\n",
       "      <td>1340</td>\n",
       "      <td>1609</td>\n",
       "      <td>720</td>\n",
       "      <td>75.013889</td>\n",
       "    </tr>\n",
       "    <tr>\n",
       "      <th>3</th>\n",
       "      <td>1451</td>\n",
       "      <td>1748</td>\n",
       "      <td>620</td>\n",
       "      <td>86.661290</td>\n",
       "    </tr>\n",
       "    <tr>\n",
       "      <th>4</th>\n",
       "      <td>1770</td>\n",
       "      <td>2111</td>\n",
       "      <td>450</td>\n",
       "      <td>103.600000</td>\n",
       "    </tr>\n",
       "    <tr>\n",
       "      <th>...</th>\n",
       "      <td>...</td>\n",
       "      <td>...</td>\n",
       "      <td>...</td>\n",
       "      <td>...</td>\n",
       "    </tr>\n",
       "    <tr>\n",
       "      <th>891</th>\n",
       "      <td>1582</td>\n",
       "      <td>1910</td>\n",
       "      <td>1080</td>\n",
       "      <td>61.472222</td>\n",
       "    </tr>\n",
       "    <tr>\n",
       "      <th>892</th>\n",
       "      <td>1387</td>\n",
       "      <td>1663</td>\n",
       "      <td>850</td>\n",
       "      <td>96.564706</td>\n",
       "    </tr>\n",
       "    <tr>\n",
       "      <th>893</th>\n",
       "      <td>1200</td>\n",
       "      <td>1436</td>\n",
       "      <td>1060</td>\n",
       "      <td>72.113208</td>\n",
       "    </tr>\n",
       "    <tr>\n",
       "      <th>894</th>\n",
       "      <td>1299</td>\n",
       "      <td>1560</td>\n",
       "      <td>770</td>\n",
       "      <td>125.467532</td>\n",
       "    </tr>\n",
       "    <tr>\n",
       "      <th>895</th>\n",
       "      <td>1174</td>\n",
       "      <td>1429</td>\n",
       "      <td>1110</td>\n",
       "      <td>48.954955</td>\n",
       "    </tr>\n",
       "  </tbody>\n",
       "</table>\n",
       "<p>896 rows × 4 columns</p>\n",
       "</div>"
      ],
      "text/plain": [
       "     Store_Area  Items_Available  Daily_Customer_Count  Average_Purchase\n",
       "0          1659             1961                   530        125.452830\n",
       "1          1461             1752                   210        189.619048\n",
       "2          1340             1609                   720         75.013889\n",
       "3          1451             1748                   620         86.661290\n",
       "4          1770             2111                   450        103.600000\n",
       "..          ...              ...                   ...               ...\n",
       "891        1582             1910                  1080         61.472222\n",
       "892        1387             1663                   850         96.564706\n",
       "893        1200             1436                  1060         72.113208\n",
       "894        1299             1560                   770        125.467532\n",
       "895        1174             1429                  1110         48.954955\n",
       "\n",
       "[896 rows x 4 columns]"
      ]
     },
     "execution_count": 13,
     "metadata": {},
     "output_type": "execute_result"
    }
   ],
   "source": [
    "data"
   ]
  },
  {
   "cell_type": "code",
   "execution_count": 14,
   "metadata": {},
   "outputs": [
    {
     "data": {
      "text/plain": [
       "0      66490\n",
       "1      39820\n",
       "2      54010\n",
       "3      53730\n",
       "4      46620\n",
       "       ...  \n",
       "891    66390\n",
       "892    82080\n",
       "893    76440\n",
       "894    96610\n",
       "895    54340\n",
       "Name: Store_Sales, Length: 896, dtype: int64"
      ]
     },
     "execution_count": 14,
     "metadata": {},
     "output_type": "execute_result"
    }
   ],
   "source": [
    "labels"
   ]
  },
  {
   "cell_type": "code",
   "execution_count": 15,
   "metadata": {},
   "outputs": [],
   "source": [
    "X_train,X_test,y_train,y_test = train_test_split(data, labels, test_size = 0.2, random_state = 0)"
   ]
  },
  {
   "cell_type": "code",
   "execution_count": 16,
   "metadata": {},
   "outputs": [
    {
     "data": {
      "text/plain": [
       "(     Store_Area  Items_Available  Daily_Customer_Count  Average_Purchase\n",
       " 703        1791             2167                   700         91.885714\n",
       " 740        1336             1616                   710        122.000000\n",
       " 532        1642             1981                   720         75.625000\n",
       " 842        1305             1557                   580         95.689655\n",
       " 402        1439             1724                   900         56.577778\n",
       " ..          ...              ...                   ...               ...\n",
       " 835        1651             2009                  1000         58.160000\n",
       " 192        1462             1770                  1070         63.280374\n",
       " 629        1887             2264                   830         74.759036\n",
       " 559        1237             1512                  1070         82.439252\n",
       " 684        1540             1820                   310        265.774194\n",
       " \n",
       " [716 rows x 4 columns],\n",
       "      Store_Area  Items_Available  Daily_Customer_Count  Average_Purchase\n",
       " 145        1462             1762                  1010         50.683168\n",
       " 60         1704             2045                   300        237.666667\n",
       " 733        1659             1999                   650        101.015385\n",
       " 31         1250             1508                   990         15.070707\n",
       " 506        1784             2142                   950         67.378947\n",
       " ..          ...              ...                   ...               ...\n",
       " 635        1933             2338                  1140         39.236842\n",
       " 308        1550             1871                   590        125.966102\n",
       " 384        1554             1852                   440        109.363636\n",
       " 895        1174             1429                  1110         48.954955\n",
       " 1          1461             1752                   210        189.619048\n",
       " \n",
       " [180 rows x 4 columns])"
      ]
     },
     "execution_count": 16,
     "metadata": {},
     "output_type": "execute_result"
    }
   ],
   "source": [
    "X_train,X_test"
   ]
  },
  {
   "cell_type": "code",
   "execution_count": 17,
   "metadata": {
    "scrolled": true
   },
   "outputs": [
    {
     "data": {
      "text/plain": [
       "(703    64320\n",
       " 740    86620\n",
       " 532    54450\n",
       " 842    55500\n",
       " 402    50920\n",
       "        ...  \n",
       " 835    58160\n",
       " 192    67710\n",
       " 629    62050\n",
       " 559    88210\n",
       " 684    82390\n",
       " Name: Store_Sales, Length: 716, dtype: int64,\n",
       " 145    51190\n",
       " 60     71300\n",
       " 733    65660\n",
       " 31     14920\n",
       " 506    64010\n",
       "        ...  \n",
       " 635    44730\n",
       " 308    74320\n",
       " 384    48120\n",
       " 895    54340\n",
       " 1      39820\n",
       " Name: Store_Sales, Length: 180, dtype: int64)"
      ]
     },
     "execution_count": 17,
     "metadata": {},
     "output_type": "execute_result"
    }
   ],
   "source": [
    "y_train,y_test"
   ]
  },
  {
   "cell_type": "markdown",
   "metadata": {},
   "source": [
    "### 7. Create a Linear Regression Model to Forecast Sales Column"
   ]
  },
  {
   "cell_type": "code",
   "execution_count": 18,
   "metadata": {},
   "outputs": [],
   "source": [
    "from sklearn.linear_model import LinearRegression\n",
    "linear_regression = LinearRegression()"
   ]
  },
  {
   "cell_type": "code",
   "execution_count": 19,
   "metadata": {
    "scrolled": false
   },
   "outputs": [
    {
     "data": {
      "text/html": [
       "<style>#sk-container-id-1 {color: black;}#sk-container-id-1 pre{padding: 0;}#sk-container-id-1 div.sk-toggleable {background-color: white;}#sk-container-id-1 label.sk-toggleable__label {cursor: pointer;display: block;width: 100%;margin-bottom: 0;padding: 0.3em;box-sizing: border-box;text-align: center;}#sk-container-id-1 label.sk-toggleable__label-arrow:before {content: \"▸\";float: left;margin-right: 0.25em;color: #696969;}#sk-container-id-1 label.sk-toggleable__label-arrow:hover:before {color: black;}#sk-container-id-1 div.sk-estimator:hover label.sk-toggleable__label-arrow:before {color: black;}#sk-container-id-1 div.sk-toggleable__content {max-height: 0;max-width: 0;overflow: hidden;text-align: left;background-color: #f0f8ff;}#sk-container-id-1 div.sk-toggleable__content pre {margin: 0.2em;color: black;border-radius: 0.25em;background-color: #f0f8ff;}#sk-container-id-1 input.sk-toggleable__control:checked~div.sk-toggleable__content {max-height: 200px;max-width: 100%;overflow: auto;}#sk-container-id-1 input.sk-toggleable__control:checked~label.sk-toggleable__label-arrow:before {content: \"▾\";}#sk-container-id-1 div.sk-estimator input.sk-toggleable__control:checked~label.sk-toggleable__label {background-color: #d4ebff;}#sk-container-id-1 div.sk-label input.sk-toggleable__control:checked~label.sk-toggleable__label {background-color: #d4ebff;}#sk-container-id-1 input.sk-hidden--visually {border: 0;clip: rect(1px 1px 1px 1px);clip: rect(1px, 1px, 1px, 1px);height: 1px;margin: -1px;overflow: hidden;padding: 0;position: absolute;width: 1px;}#sk-container-id-1 div.sk-estimator {font-family: monospace;background-color: #f0f8ff;border: 1px dotted black;border-radius: 0.25em;box-sizing: border-box;margin-bottom: 0.5em;}#sk-container-id-1 div.sk-estimator:hover {background-color: #d4ebff;}#sk-container-id-1 div.sk-parallel-item::after {content: \"\";width: 100%;border-bottom: 1px solid gray;flex-grow: 1;}#sk-container-id-1 div.sk-label:hover label.sk-toggleable__label {background-color: #d4ebff;}#sk-container-id-1 div.sk-serial::before {content: \"\";position: absolute;border-left: 1px solid gray;box-sizing: border-box;top: 0;bottom: 0;left: 50%;z-index: 0;}#sk-container-id-1 div.sk-serial {display: flex;flex-direction: column;align-items: center;background-color: white;padding-right: 0.2em;padding-left: 0.2em;position: relative;}#sk-container-id-1 div.sk-item {position: relative;z-index: 1;}#sk-container-id-1 div.sk-parallel {display: flex;align-items: stretch;justify-content: center;background-color: white;position: relative;}#sk-container-id-1 div.sk-item::before, #sk-container-id-1 div.sk-parallel-item::before {content: \"\";position: absolute;border-left: 1px solid gray;box-sizing: border-box;top: 0;bottom: 0;left: 50%;z-index: -1;}#sk-container-id-1 div.sk-parallel-item {display: flex;flex-direction: column;z-index: 1;position: relative;background-color: white;}#sk-container-id-1 div.sk-parallel-item:first-child::after {align-self: flex-end;width: 50%;}#sk-container-id-1 div.sk-parallel-item:last-child::after {align-self: flex-start;width: 50%;}#sk-container-id-1 div.sk-parallel-item:only-child::after {width: 0;}#sk-container-id-1 div.sk-dashed-wrapped {border: 1px dashed gray;margin: 0 0.4em 0.5em 0.4em;box-sizing: border-box;padding-bottom: 0.4em;background-color: white;}#sk-container-id-1 div.sk-label label {font-family: monospace;font-weight: bold;display: inline-block;line-height: 1.2em;}#sk-container-id-1 div.sk-label-container {text-align: center;}#sk-container-id-1 div.sk-container {/* jupyter's `normalize.less` sets `[hidden] { display: none; }` but bootstrap.min.css set `[hidden] { display: none !important; }` so we also need the `!important` here to be able to override the default hidden behavior on the sphinx rendered scikit-learn.org. See: https://github.com/scikit-learn/scikit-learn/issues/21755 */display: inline-block !important;position: relative;}#sk-container-id-1 div.sk-text-repr-fallback {display: none;}</style><div id=\"sk-container-id-1\" class=\"sk-top-container\"><div class=\"sk-text-repr-fallback\"><pre>LinearRegression()</pre><b>In a Jupyter environment, please rerun this cell to show the HTML representation or trust the notebook. <br />On GitHub, the HTML representation is unable to render, please try loading this page with nbviewer.org.</b></div><div class=\"sk-container\" hidden><div class=\"sk-item\"><div class=\"sk-estimator sk-toggleable\"><input class=\"sk-toggleable__control sk-hidden--visually\" id=\"sk-estimator-id-1\" type=\"checkbox\" checked><label for=\"sk-estimator-id-1\" class=\"sk-toggleable__label sk-toggleable__label-arrow\">LinearRegression</label><div class=\"sk-toggleable__content\"><pre>LinearRegression()</pre></div></div></div></div></div>"
      ],
      "text/plain": [
       "LinearRegression()"
      ]
     },
     "execution_count": 19,
     "metadata": {},
     "output_type": "execute_result"
    }
   ],
   "source": [
    "#fit the Linear Regression model on training data\n",
    "linear_regression.fit(X_train, y_train)"
   ]
  },
  {
   "cell_type": "markdown",
   "metadata": {},
   "source": [
    "### 8. Evaluate Forecast Result using Regression Metrics"
   ]
  },
  {
   "cell_type": "code",
   "execution_count": 20,
   "metadata": {},
   "outputs": [],
   "source": [
    "from sklearn.metrics import mean_squared_error"
   ]
  },
  {
   "cell_type": "code",
   "execution_count": 21,
   "metadata": {},
   "outputs": [],
   "source": [
    "preds = linear_regression.predict(X_test)"
   ]
  },
  {
   "cell_type": "code",
   "execution_count": 22,
   "metadata": {},
   "outputs": [
    {
     "data": {
      "text/plain": [
       "16259.056692045066"
      ]
     },
     "execution_count": 22,
     "metadata": {},
     "output_type": "execute_result"
    }
   ],
   "source": [
    "mean_squared_error(preds, y_test)**0.5"
   ]
  }
 ],
 "metadata": {
  "kernelspec": {
   "display_name": "Python 3 (ipykernel)",
   "language": "python",
   "name": "python3"
  },
  "language_info": {
   "codemirror_mode": {
    "name": "ipython",
    "version": 3
   },
   "file_extension": ".py",
   "mimetype": "text/x-python",
   "name": "python",
   "nbconvert_exporter": "python",
   "pygments_lexer": "ipython3",
   "version": "3.11.5"
  }
 },
 "nbformat": 4,
 "nbformat_minor": 4
}
